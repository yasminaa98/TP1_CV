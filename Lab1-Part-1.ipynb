{
 "cells": [
  {
   "cell_type": "code",
   "execution_count": 44,
   "id": "78c69c2a",
   "metadata": {},
   "outputs": [
    {
     "name": "stdout",
     "output_type": "stream",
     "text": [
      "Requirement already satisfied: opencv-python in c:\\anaconda\\lib\\site-packages (4.6.0.66)\n",
      "Requirement already satisfied: numpy>=1.17.3 in c:\\anaconda\\lib\\site-packages (from opencv-python) (1.20.1)\n"
     ]
    }
   ],
   "source": [
    "!pip install opencv-python\n",
    "#Read image and display\n",
    "import cv2\n",
    "image = cv2.imread('bird.jpg',1)\n",
    "cv2.imshow(\"image\", image)\n",
    "cv2.waitKey(0)\n",
    "cv2.destroyAllWindows()\n",
    "\n",
    "def image_augmentation(image):\n",
    "    \n",
    "    import numpy as np\n",
    "    #Tronsformation image rotation\n",
    "    image = cv2.imread('bird.jpg',1)\n",
    "    rows,cols,ch = image.shape    \n",
    "    M = cv2.getRotationMatrix2D((cols/2,rows/2),90,1)\n",
    "    rotated=cv2.warpAffine(image,M,(cols, rows))\n",
    "    cv2.imshow(\"rotated\", rotated)\n",
    "    cv2.waitKey(0)\n",
    "    cv2.destroyAllWindows()\n",
    "    #Transformation Flip\n",
    "   \n",
    "    image = cv2.imread('bird.jpg',1)\n",
    "    flipped = cv2.flip(image,0)  \n",
    "    cv2.imshow(\"flipped\", flipped)\n",
    "    cv2.waitKey(0)\n",
    "    cv2.destroyAllWindows()\n",
    "    # cropping image\n",
    "\n",
    "    image = cv2.imread('bird.jpg')\n",
    "    f = image[50:350, 0: 350]\n",
    "    cv2.imshow(\"cropped\", f)\n",
    "    cv2.waitKey(0)\n",
    "    cv2.destroyAllWindows()\n",
    "    # resize image\n",
    "\n",
    "    image = cv2.imread('bird.jpg')\n",
    "    bigger = cv2.resize(image, (1050, 1610))\n",
    "    cv2.imshow(\"scale\", bigger)\n",
    "    cv2.waitKey(0)\n",
    "    cv2.destroyAllWindows()\n",
    "    #image brightness\n",
    "\n",
    "    image = cv2.imread('bird.jpg',1)\n",
    "    rows,cols,ch = image.shape    \n",
    "    matrix = np.ones(image.shape, dtype = \"uint8\") * 120 \n",
    "    image = cv2.add(image, matrix)\n",
    "    cv2.imshow(\"brightness\", image)\n",
    "    cv2.waitKey(0)\n",
    "    cv2.destroyAllWindows()\n",
    "    #image Median Blur\n",
    "\n",
    "    image = cv2.imread('bird.jpg',1)\n",
    "    rows,cols,ch = image.shape    \n",
    "    ksize=[10,10]\n",
    "    image=cv2.blur(image,ksize)\n",
    "    cv2.imshow(\"Blur\", image)\n",
    "    cv2.waitKey(0)\n",
    "    cv2.destroyAllWindows()\n",
    "    #image sharpening\n",
    "\n",
    "    image = cv2.imread('bird.jpg',1)   \n",
    "    sharpened = cv2.filter2D(image, -1, np.array([[0, -1, 0], [-1, 5, -1], [0, -1, 0]]))\n",
    "    cv2.imshow(\"sharpened\", sharpened)\n",
    "    cv2.waitKey(0)\n",
    "    cv2.destroyAllWindows()\n",
    "\n",
    "image_augmentation(image)"
   ]
  },
  {
   "cell_type": "code",
   "execution_count": 11,
   "id": "65328fef",
   "metadata": {},
   "outputs": [],
   "source": []
  },
  {
   "cell_type": "code",
   "execution_count": 23,
   "id": "d68813e9",
   "metadata": {},
   "outputs": [],
   "source": [
    "\n"
   ]
  },
  {
   "cell_type": "code",
   "execution_count": 21,
   "id": "4248816a",
   "metadata": {},
   "outputs": [],
   "source": []
  },
  {
   "cell_type": "code",
   "execution_count": 29,
   "id": "8cdb4f8b",
   "metadata": {},
   "outputs": [],
   "source": []
  },
  {
   "cell_type": "code",
   "execution_count": 30,
   "id": "9f9b0419",
   "metadata": {},
   "outputs": [],
   "source": []
  },
  {
   "cell_type": "code",
   "execution_count": 32,
   "id": "5179eee3",
   "metadata": {},
   "outputs": [],
   "source": []
  },
  {
   "cell_type": "code",
   "execution_count": 33,
   "id": "dd758422",
   "metadata": {},
   "outputs": [],
   "source": []
  },
  {
   "cell_type": "code",
   "execution_count": 42,
   "id": "0c3f59d9",
   "metadata": {},
   "outputs": [],
   "source": []
  },
  {
   "cell_type": "code",
   "execution_count": null,
   "id": "ffad40a1",
   "metadata": {},
   "outputs": [],
   "source": []
  },
  {
   "cell_type": "code",
   "execution_count": null,
   "id": "fd8a8761",
   "metadata": {},
   "outputs": [],
   "source": []
  }
 ],
 "metadata": {
  "kernelspec": {
   "display_name": "Python 3",
   "language": "python",
   "name": "python3"
  },
  "language_info": {
   "codemirror_mode": {
    "name": "ipython",
    "version": 3
   },
   "file_extension": ".py",
   "mimetype": "text/x-python",
   "name": "python",
   "nbconvert_exporter": "python",
   "pygments_lexer": "ipython3",
   "version": "3.8.8"
  }
 },
 "nbformat": 4,
 "nbformat_minor": 5
}
